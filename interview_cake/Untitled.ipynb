{
 "cells": [
  {
   "cell_type": "markdown",
   "metadata": {},
   "source": [
    "# Stock-Price"
   ]
  },
  {
   "cell_type": "code",
   "execution_count": 13,
   "metadata": {},
   "outputs": [],
   "source": [
    "def get_max_profit(stock_prices):\n",
    "    if len(stock_prices) < 2:\n",
    "        raise ValueError(\"Getting a prodit requires at least 2 prices\")\n",
    "\n",
    "    min_price = stock_prices[0]\n",
    "    max_profit = stock_prices[1] - stock_prices[0]\n",
    "    \n",
    "    for i in range(1, len(stock_prices)):\n",
    "        current_price = stock_prices[i]\n",
    "        \n",
    "        potential_profit = current_price - min_price\n",
    "        max_profit = max(max_profit, potential_profit)\n",
    "        \n",
    "        min_price = min(min_price, current_price)\n",
    "        \n",
    "    return max_profit"
   ]
  },
  {
   "cell_type": "code",
   "execution_count": 14,
   "metadata": {},
   "outputs": [
    {
     "data": {
      "text/plain": [
       "6"
      ]
     },
     "execution_count": 14,
     "metadata": {},
     "output_type": "execute_result"
    }
   ],
   "source": [
    "stock_prices = [10, 7, 5, 8, 11, 9]\n",
    "\n",
    "get_max_profit(stock_prices)\n",
    "# Returns 6 (buying for $5 and selling for $11)"
   ]
  },
  {
   "cell_type": "code",
   "execution_count": null,
   "metadata": {},
   "outputs": [],
   "source": []
  }
 ],
 "metadata": {
  "kernelspec": {
   "display_name": "Python 3.7.4 64-bit ('base': conda)",
   "language": "python",
   "name": "python37464bitbaseconda7d173c5ac3d647bb86950a56c57e9e53"
  },
  "language_info": {
   "codemirror_mode": {
    "name": "ipython",
    "version": 3
   },
   "file_extension": ".py",
   "mimetype": "text/x-python",
   "name": "python",
   "nbconvert_exporter": "python",
   "pygments_lexer": "ipython3",
   "version": "3.7.4"
  }
 },
 "nbformat": 4,
 "nbformat_minor": 4
}
